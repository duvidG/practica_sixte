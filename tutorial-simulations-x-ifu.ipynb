{
 "cells": [
  {
   "cell_type": "code",
   "execution_count": null,
   "id": "2803501f-3f55-4570-a417-ffa642d01e1d",
   "metadata": {},
   "outputs": [],
   "source": [
    "# Cosas por hacer\n",
    "#    - No me da tiempo a sacar las imgs de la segunda solución\n",
    "#    - Quedan los ejs del final\n",
    "#    - Falta parte tessim y sirena\n",
    "#    - Espectro ufs, delchi no coincide con tutorial\n"
   ]
  },
  {
   "cell_type": "code",
   "execution_count": 1,
   "id": "75f6f1a1-451b-47dd-b986-0e57862b156b",
   "metadata": {},
   "outputs": [],
   "source": [
    "import copy\n",
    "import glob\n",
    "import matplotlib.colors as colors\n",
    "import matplotlib.image as mpimg\n",
    "import matplotlib.pyplot as plt\n",
    "import numpy as np\n",
    "import os\n",
    "import pandas\n",
    "import time\n",
    "import tempfile\n",
    "import shutil, shlex\n",
    "\n",
    "\n",
    "from astropy.io import fits\n",
    "from astropy.visualization import astropy_mpl_style\n",
    "from datetime import datetime\n",
    "from funcs import *\n",
    "from simulation_imports import *\n",
    "from subprocess import check_call, STDOUT\n",
    "from xspec import Xset, Plot, AllData, ModelManager, Spectrum, Model, AllModels, Fit\n",
    "\n",
    "plt.style.use(astropy_mpl_style)\n"
   ]
  },
  {
   "cell_type": "code",
   "execution_count": 2,
   "id": "acda8903-189f-4278-a134-da3df6e06e99",
   "metadata": {},
   "outputs": [],
   "source": [
    "tmpDir = tempfile.mkdtemp()\n",
    "os.environ[\"PFILES\"] = tmpDir + \":\" + os.environ[\"PFILES\"]\n",
    "os.environ[\"HEADASNOQUERY\"] = \"\"\n",
    "os.environ[\"HEADASPROMPT\"] = \"/dev/null/\"\n",
    "SIXTE = os.environ[\"SIXTE\"]\n",
    "xmldir = \"{}/share/sixte/instruments/athena-xifu\".format(SIXTE)\n"
   ]
  },
  {
   "cell_type": "code",
   "execution_count": 3,
   "id": "8a7f3990-7521-4d9b-913e-a51afc0b3852",
   "metadata": {},
   "outputs": [
    {
     "name": "stdout",
     "output_type": "stream",
     "text": [
      "Creating simput file for point source\n",
      "simputfile Simput=xifu_point_source.simput RA=239.064583333 Dec=66.3470277776 srcFlux=2e-12 Emin=0.1 Emax=10 XSPECFile=xifu_point_source.xcm  clobber=yes\n"
     ]
    }
   ],
   "source": [
    "# Simput file for xifu_point_source.xcm (download needed)\n",
    "\n",
    "xcm = 'xifu_point_source.xcm'\n",
    "sim_file = 'xifu_point_source.simput'\n",
    "\n",
    "RA=239.064583333\n",
    "Dec=66.3470277776\n",
    "srcFlux=2e-12\n",
    "\n",
    "rewrite = True\n",
    "\n",
    "if rewrite:\n",
    "    if os.path.exists(sim_file):\n",
    "        os.remove(sim_file)\n",
    "    run_comm('simputfile Simput={} RA={} Dec={} srcFlux={} Emin=0.1 Emax=10 XSPECFile={} '.format(sim_file, RA, Dec, srcFlux, xcm) +\n",
    "             ' clobber=yes', 'Creating simput file for point source')\n",
    "else:\n",
    "    print(\"Simput file ({}) already exists: it will not be overwritten\".format(sim_file))\n"
   ]
  },
  {
   "cell_type": "code",
   "execution_count": 4,
   "id": "38f218d9-0b12-4fb4-8084-95638772ec98",
   "metadata": {},
   "outputs": [
    {
     "name": "stdout",
     "output_type": "stream",
     "text": [
      "Event files already exist: they will not be overwritten\n"
     ]
    }
   ],
   "source": [
    "# Running simulation\n",
    "\n",
    "XMLFile='{}/xifu_baseline.xml'.format(xmldir)\n",
    "AdvXml='{}/xifu_detector_lpa_75um_AR0.5_pixoffset_mux40_pitch275um.xml'.format(xmldir)\n",
    "evt_file = 'xifu_point_source_evt.fits'\n",
    "\n",
    "\n",
    "rewrite = False\n",
    "if rewrite:\n",
    "    if os.path.exists(evt_file):\n",
    "        os.remove(evt_file)\n",
    "    run_comm('xifupipeline XMLFile={} AdvXml={} RA={} Dec={} '.format(XMLFile, AdvXml, RA, Dec) +\n",
    "             'EvtFile={} Simput={} Exposure=100000 clobber=yes'.format(evt_file, sim_file), 'Simulating simput file')\n",
    "\n",
    "else:\n",
    "    print(\"Event files already exist: they will not be overwritten\".format(evt_file))\n"
   ]
  },
  {
   "cell_type": "code",
   "execution_count": 5,
   "id": "7f1a10fc-1285-44c5-b9b1-15c173bbe469",
   "metadata": {},
   "outputs": [
    {
     "name": "stdout",
     "output_type": "stream",
     "text": [
      "Generating spectrum\n",
      "makespec EvtFile=xifu_point_source_evt.fits Spectrum=xifu_point_source_spec.pha  EventFilter='GRADING==1' clobber=yes RSPPath=/home/dgiron/sixtebin/share/sixte/instruments/athena-xifu\n"
     ]
    }
   ],
   "source": [
    "# Create spectrum\n",
    "spec_file = 'xifu_point_source_spec.pha'\n",
    "rewrite = True\n",
    "if rewrite:\n",
    "    if os.path.exists(spec_file):\n",
    "        os.remove(spec_file)\n",
    "    run_comm(\"makespec EvtFile={} Spectrum={}  EventFilter='GRADING==1' clobber=yes RSPPath={}\".format(evt_file, spec_file, xmldir), 'Generating spectrum')\n",
    "else:\n",
    "    print('Spec file {} already exists, it will not be overwritten'.format(spec_file))\n"
   ]
  },
  {
   "cell_type": "code",
   "execution_count": 6,
   "id": "17d24178-e2ad-4f06-8129-044040bb8e86",
   "metadata": {},
   "outputs": [],
   "source": [
    "Plot.device = '/null'\n",
    "AllData.clear()\n",
    "AllModels.clear()\n",
    "s1 = Spectrum(spec_file)\n",
    "m0 = Model(\"phabs*apec\")\n",
    "s1.ignore('**-0.8')\n",
    "s1.ignore('3.0-**')\n",
    "Fit.perform()\n",
    "\n",
    "Plot.device = \"/xs\"\n",
    "Plot.xAxis=\"KeV\"\n",
    "Plot(\"ufs\",\"delchi\")"
   ]
  },
  {
   "cell_type": "code",
   "execution_count": 25,
   "id": "3f4facc8-0c99-451f-bb50-daf3f2247fe3",
   "metadata": {},
   "outputs": [
    {
     "name": "stdout",
     "output_type": "stream",
     "text": [
      "Simput file (clusterA2146.simput) already exists: it will not be overwritten\n"
     ]
    }
   ],
   "source": [
    "# 1st solution: Using existing 2D maps\n",
    "\n",
    "\n",
    "# Simput file for xifu_point_source.xcm (download needed)\n",
    "\n",
    "xcm = 'xifu_point_source.xcm'\n",
    "sim_file = 'clusterA2146.simput'\n",
    "img_file = \"A2146_SXB_russel_coord_cal.fits\"\n",
    "param_files = \"A2146_kt_russel_coord_cal.fits;A2146_ab_russel_coord_cal.fits\"\n",
    "\n",
    "RA=239.064583333\n",
    "Dec=66.3470277776\n",
    "srcFlux=7.995076796356145e-12\n",
    "\n",
    "rewrite = False\n",
    "\n",
    "if rewrite:\n",
    "    if os.path.exists(sim_file):\n",
    "        os.remove(sim_file)\n",
    "    run_comm('simputmultispec Simput={} XSPECFile={} ImageFile={} ParamFiles={} ParamNames=2;3 ParamsLogScale=yes;no'.format(sim_file, xcm, img_file, param_files) +\n",
    "             ' ParamsNumValues=8;8 Emin=0.5 Emax=10.0 RA={} Dec={} srcFlux={} Elow=0.2 Eup=12 Estep=0.00025 clobber=yes'.format(RA, Dec, srcFlux), 'Creating simput file for point source')\n",
    "else:\n",
    "    print(\"Simput file ({}) already exists: it will not be overwritten\".format(sim_file))\n"
   ]
  },
  {
   "cell_type": "code",
   "execution_count": 26,
   "id": "416f60a7-d42e-4656-a97f-a1b48c73981e",
   "metadata": {},
   "outputs": [
    {
     "name": "stdout",
     "output_type": "stream",
     "text": [
      "Event files already exist: they will not be overwritten\n"
     ]
    }
   ],
   "source": [
    "# Running simulation\n",
    "\n",
    "XMLFile='{}/xifu_baseline.xml'.format(xmldir)\n",
    "AdvXml='{}/xifu_detector_lpa_75um_AR0.5_pixoffset_mux40_pitch275um.xml'.format(xmldir)\n",
    "evt_file = '2d_maps_evt.fits'\n",
    "\n",
    "\n",
    "rewrite = False\n",
    "if rewrite:\n",
    "    if os.path.exists(evt_file):\n",
    "        os.remove(evt_file)\n",
    "    run_comm('xifupipeline XMLFile={} AdvXml={} RA={} Dec={} '.format(XMLFile, AdvXml, RA, Dec) +\n",
    "             'EvtFile={} Simput={} Exposure=100000 clobber=yes'.format(evt_file, sim_file), 'Simulating simput file')\n",
    "\n",
    "else:\n",
    "    print(\"Event files already exist: they will not be overwritten\".format(evt_file))\n"
   ]
  },
  {
   "cell_type": "code",
   "execution_count": 61,
   "id": "6f7f5594-70b2-4dde-abea-1214c36ab1aa",
   "metadata": {},
   "outputs": [
    {
     "name": "stdout",
     "output_type": "stream",
     "text": [
      "Event file 2d_maps_img.fits already exists, it wont be overwritten\n",
      "Opening image\n",
      "xdg-open imgs/imgev_xifu.png\n"
     ]
    },
    {
     "data": {
      "image/png": "[encoded data removed]",
      "text/plain": [
       "<Figure size 2304x864 with 2 Axes>"
      ]
     },
     "metadata": {},
     "output_type": "display_data"
    }
   ],
   "source": [
    "img_file = '2d_maps_img.fits'\n",
    "\n",
    "rewrite = False\n",
    "if rewrite:\n",
    "    run_comm('imgev EvtFile={} Image={} CoordinateSystem=0 Projection=TAN CUNIT1=deg CUNIT2=deg NAXIS1=80 NAXIS2=80'.format(evt_file, img_file) +\n",
    "             ' CRVAL1={} CRVAL2={} CDELT1=-0.0011888874248538006 CDELT2=0.0011888874248538006 CRPIX1=40.5 CRPIX2=40.5 clobber=yes'.format(RA, Dec, 'Creating eRosita image'))\n",
    "else:\n",
    "    print('Event file {} already exists, it wont be overwritten'.format(img_file))\n",
    "\n",
    "\n",
    "\n",
    "\n",
    "image_data = fits.getdata(img_file, ext=0)\n",
    "image_data2 = image_data[150:250, 150:250]\n",
    "\n",
    "fig, _axs = plt.subplots(nrows=1, ncols=1, figsize=(16*2,6*2))\n",
    "axs = _axs\n",
    "axs = [axs]\n",
    "\n",
    "\n",
    "sq_dwl = np.array((239.18, 66.30))\n",
    "sq_upr = np.array((238.946, 66.40))\n",
    "\n",
    "draw_second_axis(fig, axs, sq_downleft=sq_dwl, sq_upright=sq_upr, ln=80, mov_ra=3, mov_dec=0, lon_lines=2, num_lines=10,\n",
    "                mov_x_text=[0, 5], mov_y_text=[12, 0], xlabel=r'$\\alpha$/deg', ylabel=r'$\\delta$/deg', num_axis=0, dist_txt=3, zero_between=False, display_format='.2f')\n",
    "\n",
    "sq1, sq2 = get_zoom_coord(sq_dwl, sq_upr, 80, [36, 42], [36, 42])\n",
    "\n",
    "sq1_out, sq2_out = get_zoom_coord(sq_dwl, sq_upr, 80, [50, 54], [56, 60])\n",
    "\n",
    "axs[0].plot([36, 36], [36, 42], 'y--')\n",
    "axs[0].plot([42, 42], [36, 42], 'y--')\n",
    "axs[0].plot([36, 42], [36, 36], 'y--')\n",
    "axs[0].plot([36, 42], [42, 42], 'y--', label='Spec 1')\n",
    "\n",
    "axs[0].plot([50, 50], [56, 60], '--' ,color='skyblue')\n",
    "axs[0].plot([54, 54], [56, 60], '--', color='skyblue')\n",
    "axs[0].plot([50, 54], [56, 56], '--', color='skyblue')\n",
    "axs[0].plot([50, 54], [60, 60], '--', color='skyblue', label='Spec 2')\n",
    "axs[0].legend()\n",
    "\n",
    "\n",
    "\n",
    "axs[0].set_ylim(0, len(image_data))\n",
    "\n",
    "\n",
    "cmap = plt.cm.gist_heat\n",
    "im = axs[0].imshow(image_data, cmap=cmap, norm=colors.LogNorm(vmin=1000, vmax=5000))\n",
    "fig.colorbar(im,ax=axs[0], pad=0.1)\n",
    "\n",
    "img_subplot(fig, axs[0], 1.5, 1.2, 'imgs/imgev_xifu.png', True)"
   ]
  },
  {
   "cell_type": "code",
   "execution_count": 60,
   "id": "bb3865d5-dfff-48d9-8d77-5076cc80acd4",
   "metadata": {},
   "outputs": [
    {
     "name": "stdout",
     "output_type": "stream",
     "text": [
      "Generating spectrum\n",
      "makespec EvtFile=2d_maps_evt.fits Spectrum=xifu_center_spec.pha RSPPath=/home/dgiron/sixtebin/share/sixte/instruments/athena-xifu EventFilter='(RA<239.0747 || RA>239.05715) && Dec<66.3525 && Dec>66.345'\n"
     ]
    }
   ],
   "source": [
    "# Create spectrum center\n",
    "spec_file = 'xifu_center_spec.pha'\n",
    "rewrite = True\n",
    "if rewrite:\n",
    "    if os.path.exists(spec_file):\n",
    "        os.remove(spec_file)\n",
    "    run_comm(\"makespec EvtFile={} Spectrum={} RSPPath={} EventFilter='(RA<{} || RA>{}) && Dec<{} && Dec>{}'\".format(evt_file, spec_file, xmldir,\n",
    "                                                                                                                   sq1[0], sq2[0], sq2[1], sq1[1]), 'Generating spectrum')\n",
    "else:\n",
    "    print('Spec file {} already exists, it will not be overwritten'.format(spec_file))\n",
    "\n",
    "\n",
    "Plot.device = '/null'\n",
    "AllData.clear()\n",
    "AllModels.clear()\n",
    "\n",
    "Plot.device = \"/xs\"\n",
    "Plot.xAxis=\"KeV\"\n",
    "\n",
    "AllData.clear()\n",
    "s1 = Spectrum(spec_file)\n",
    "s1.ignore(\"**-0.5\")\n",
    "s1.ignore(\"7.0-**\")\n",
    "#s1.ignore(\"bad\")\n",
    "Plot(\"data\")"
   ]
  },
  {
   "cell_type": "code",
   "execution_count": 58,
   "id": "72dc798b-5459-45d4-87a4-e1395e1d7cd2",
   "metadata": {},
   "outputs": [
    {
     "name": "stdout",
     "output_type": "stream",
     "text": [
      "Generating spectrum\n",
      "makespec EvtFile=2d_maps_evt.fits Spectrum=xifu_outside_spec.pha RSPPath=/home/dgiron/sixtebin/share/sixte/instruments/athena-xifu EventFilter='(RA<239.03375 || RA>239.02205) && Dec<66.375 && Dec>66.37'\n"
     ]
    }
   ],
   "source": [
    "# Create spectrum outside\n",
    "spec_file = 'xifu_outside_spec.pha'\n",
    "rewrite = True\n",
    "if rewrite:\n",
    "    if os.path.exists(spec_file):\n",
    "        os.remove(spec_file)\n",
    "    run_comm(\"makespec EvtFile={} Spectrum={} RSPPath={} EventFilter='(RA<{} || RA>{}) && Dec<{} && Dec>{}'\".format(evt_file, spec_file, xmldir,\n",
    "                                                                                                                   sq1_out[0], sq2_out[0], sq2_out[1], sq1_out[1]),\n",
    "             'Generating spectrum')\n",
    "else:\n",
    "    print('Spec file {} already exists, it will not be overwritten'.format(spec_file))\n",
    "\n",
    "\n",
    "Plot.device = '/null'\n",
    "AllData.clear()\n",
    "AllModels.clear()\n",
    "\n",
    "Plot.device = \"/xs\"\n",
    "Plot.xAxis=\"KeV\"\n",
    "\n",
    "AllData.clear()\n",
    "s1 = Spectrum(spec_file)\n",
    "s1.ignore(\"**-0.5\")\n",
    "s1.ignore(\"7.0-**\")\n",
    "#s1.ignore(\"bad\")\n",
    "Plot(\"data\")"
   ]
  },
  {
   "cell_type": "code",
   "execution_count": 16,
   "id": "35a743b7-9737-44bf-a913-d35daab19bb4",
   "metadata": {},
   "outputs": [
    {
     "name": "stdout",
     "output_type": "stream",
     "text": [
      "Simput file (xifu_3D.simput) already exists: it will not be overwritten\n"
     ]
    }
   ],
   "source": [
    "# 2nd solution: Using galaxy cluster simulations\n",
    "\n",
    "xcm = 'wabs_vapec_cosmo.xcm'\n",
    "sim_file = 'xifu_3D.simput'\n",
    "param_files = \"xifu_3D_grid.fits\"\n",
    "\n",
    "rewrite = False\n",
    "\n",
    "if rewrite:\n",
    "    if os.path.exists(sim_file):\n",
    "        os.remove(sim_file)\n",
    "    run_comm('simputmulticell ParamFile={} ParamInputNames=\"T;FE_ABUND\" ParamNames=\"2;14\" InputType=TABLE XSPECFile={}'.format(param_files, xcm) +\n",
    "             ' ParamsLogScale=\"no;no\" ParamsNumValues=\"100;100\" Estep=0.00025 Emin=0.2 Emax=12.0 Elow=0.2 Eup=12 clobber=yes' +\n",
    "             '  Simput={}'.format(sim_file), 'Creating simput file for point source')\n",
    "else:\n",
    "    print(\"Simput file ({}) already exists: it will not be overwritten\".format(sim_file))\n"
   ]
  },
  {
   "cell_type": "code",
   "execution_count": 18,
   "id": "d028b7f0-3222-4442-ac50-42e290dc9df8",
   "metadata": {},
   "outputs": [
    {
     "name": "stdout",
     "output_type": "stream",
     "text": [
      "Simulating simput file\n",
      "xifupipeline XMLFile=/home/dgiron/sixtebin/share/sixte/instruments/athena-xifu/xifu_baseline.xml AdvXml=/home/dgiron/sixtebin/share/sixte/instruments/athena-xifu/xifu_detector_lpa_75um_AR0.5_pixoffset_mux40_pitch275um.xml RA=239.064583333 Dec=66.3470277776 EvtFile=gal_clusters_sim_evt.fits Simput=xifu_3D.simput Exposure=1000 clobber=yes\n"
     ]
    }
   ],
   "source": [
    "# Running simulation\n",
    "RA = 0\n",
    "Dec = 0\n",
    "\n",
    "\n",
    "XMLFile='{}/xifu_baseline.xml'.format(xmldir)\n",
    "AdvXml='{}/xifu_detector_lpa_75um_AR0.5_pixoffset_mux40_pitch275um.xml'.format(xmldir)\n",
    "evt_file = 'gal_clusters_sim_evt.fits'\n",
    "\n",
    "\n",
    "rewrite = True\n",
    "if rewrite:\n",
    "    if os.path.exists(evt_file):\n",
    "        os.remove(evt_file)\n",
    "    run_comm('xifupipeline XMLFile={} AdvXml={} RA={} Dec={} '.format(XMLFile, AdvXml, RA, Dec) +\n",
    "             'EvtFile={} Simput={} Exposure=1000 clobber=yes'.format(evt_file, sim_file), 'Simulating simput file')\n",
    "\n",
    "else:\n",
    "    print(\"Event files already exist: they will not be overwritten\".format(evt_file))\n"
   ]
  },
  {
   "cell_type": "code",
   "execution_count": 19,
   "id": "75d60a88-94d2-46e7-b024-3d52f9bd145a",
   "metadata": {},
   "outputs": [
    {
     "name": "stdout",
     "output_type": "stream",
     "text": [
      "\n",
      "imgev EvtFile=gal_clusters_sim_evt.fits Image=gal_clusters_sim_img.fits CoordinateSystem=0 Projection=TAN CUNIT1=deg CUNIT2=deg NAXIS1=80 NAXIS2=80 CRVAL1=239.064583333 CRVAL2=66.3470277776 CDELT1=-0.0011888874248538006 CDELT2=0.0011888874248538006 CRPIX1=40.5 CRPIX2=40.5 clobber=yes\n"
     ]
    },
    {
     "data": {
      "text/plain": [
       "<matplotlib.colorbar.Colorbar at 0x7f51a02aa2b0>"
      ]
     },
     "execution_count": 19,
     "metadata": {},
     "output_type": "execute_result"
    },
    {
     "data": {
      "image/png": "[encoded data removed]",
      "text/plain": [
       "<Figure size 2304x864 with 2 Axes>"
      ]
     },
     "metadata": {},
     "output_type": "display_data"
    }
   ],
   "source": [
    "img_file = 'gal_clusters_sim_img.fits'\n",
    "\n",
    "rewrite = True\n",
    "if rewrite:\n",
    "    run_comm('imgev EvtFile={} Image={} CoordinateSystem=0 Projection=TAN CUNIT1=deg CUNIT2=deg NAXIS1=80 NAXIS2=80'.format(evt_file, img_file) +\n",
    "             ' CRVAL1={} CRVAL2={} CDELT1=-0.0011888874248538006 CDELT2=0.0011888874248538006 CRPIX1=40.5 CRPIX2=40.5 clobber=yes'.format(RA, Dec, 'Creating eRosita image'))\n",
    "else:\n",
    "    print('Event file {} already exists, it wont be overwritten'.format(img_file))\n",
    "\n",
    "\n",
    "image_data = fits.getdata(img_file, ext=0)\n",
    "\n",
    "fig, _axs = plt.subplots(nrows=1, ncols=1, figsize=(16*2,6*2))\n",
    "axs = _axs\n",
    "axs = [axs]\n",
    "\n",
    "\n",
    "sq_dwl = np.array((239.18, 66.30))\n",
    "sq_upr = np.array((238.946, 66.40))\n",
    "\n",
    "draw_second_axis(fig, axs, sq_downleft=sq_dwl, sq_upright=sq_upr, ln=80, mov_ra=3, mov_dec=0, lon_lines=2, num_lines=10,\n",
    "                mov_x_text=[0, 5], mov_y_text=[12, 0], xlabel=r'$\\alpha$/deg', ylabel=r'$\\delta$/deg', num_axis=0, dist_txt=3, zero_between=False, display_format='2f')\n",
    "\n",
    "axs[0].set_ylim(0, len(image_data))\n",
    "\n",
    "\n",
    "cmap = plt.cm.gist_heat\n",
    "im = axs[0].imshow(image_data, cmap=cmap, norm=colors.LogNorm(vmin=0.01, vmax=100))\n",
    "fig.colorbar(im,ax=axs[0], pad=0.1)\n",
    "\n"
   ]
  },
  {
   "cell_type": "code",
   "execution_count": 70,
   "id": "12a2b911-0da6-449d-8ab0-3c560ba81f05",
   "metadata": {},
   "outputs": [
    {
     "name": "stdout",
     "output_type": "stream",
     "text": [
      "Generating spectrum\n",
      "makespec EvtFile=gal_clusters_sim_evt.fits Spectrum=gal_clusters_sim_spec.pha  EventFilter='GRADING==1 && PIXID==1953' clobber=yes RSPPath=/home/dgiron/sixtebin/share/sixte/instruments/athena-xifu\n"
     ]
    }
   ],
   "source": [
    "# Create spectrum\n",
    "spec_file = 'gal_clusters_sim_spec.pha'\n",
    "rewrite = True\n",
    "if rewrite:\n",
    "    if os.path.exists(spec_file):\n",
    "        os.remove(spec_file)\n",
    "    run_comm(\"makespec EvtFile={} Spectrum={}  EventFilter='GRADING==1 && PIXID==1953' clobber=yes RSPPath={}\".format(evt_file, spec_file, xmldir), 'Generating spectrum')\n",
    "else:\n",
    "    print('Spec file {} already exists, it will not be overwritten'.format(spec_file))\n"
   ]
  },
  {
   "cell_type": "code",
   "execution_count": 66,
   "id": "a26acc56-bccf-408b-960a-0d751160093c",
   "metadata": {},
   "outputs": [
    {
     "name": "stdout",
     "output_type": "stream",
     "text": [
      "Rebinning spectrum\n",
      "grppha infile=gal_clusters_sim_spec.pha outfile=gal_clusters_sim_rebin.pha clobber=yes\n"
     ]
    }
   ],
   "source": [
    "Plot.device = '/null'\n",
    "AllData.clear()\n",
    "AllModels.clear()\n",
    "\n",
    "Plot.device = \"/xs\"\n",
    "Plot.xAxis=\"KeV\"\n",
    "\n",
    "# rebin spectral data\n",
    "\n",
    "binspec = \"gal_clusters_sim_rebin.pha\"\n",
    "\n",
    "rewrite = True\n",
    "if rewrite:\n",
    "    if os.path.exists(binspec):\n",
    "            os.remove(binspec)\n",
    "    comm = (\"grppha infile={} outfile={} clobber=yes\".format(spec_file, binspec))    \n",
    "    run_comm(comm, \"Rebinning spectrum\")\n",
    "else:\n",
    "    print(\"Rebin file ({}) already exists: it will not be overwritten\".format(binspec))\n",
    "\n",
    "AllData.clear()\n",
    "s1 = Spectrum(binspec)\n",
    "s1.ignore(\"**-0.5\")\n",
    "s1.ignore(\"7.0-**\")\n",
    "#s1.ignore(\"bad\")\n",
    "Plot(\"data\")"
   ]
  },
  {
   "cell_type": "markdown",
   "id": "72f2a9af-11c4-4828-aa4d-728cf8e2cf9d",
   "metadata": {},
   "source": [
    "### Running simulations with tessine"
   ]
  },
  {
   "cell_type": "code",
   "execution_count": 76,
   "id": "1a2157d3-e4a9-42be-9f32-6b2b81d02b41",
   "metadata": {},
   "outputs": [
    {
     "name": "stdout",
     "output_type": "stream",
     "text": [
      "Creating impact list\n",
      "tesgenimpacts mode=const tstart=0 tstop=0.3 dtau=200 EConst=2\n"
     ]
    }
   ],
   "source": [
    "# Example of a photon impact list with just one photon\n",
    "\n",
    "PixImpList = \"piximpact_2keV.fits\"\n",
    "\n",
    "rewrite = True\n",
    "if rewrite:\n",
    "    if os.path.exists(PixImpList):\n",
    "            os.remove(PixImpList)\n",
    "    run_comm(\"tesgenimpacts mode=const tstart=0 tstop=0.3 dtau=200 EConst=2\".format(PixImpList), 'Creating impact list')    \n",
    "else:\n",
    "    print(\"Impact list file ({}) already exists: it will not be overwritten\".format(PixImpList))\n",
    "\n"
   ]
  },
  {
   "cell_type": "code",
   "execution_count": 77,
   "id": "190ac394-3b6b-424a-81ef-8be7042e5111",
   "metadata": {},
   "outputs": [
    {
     "name": "stdout",
     "output_type": "stream",
     "text": [
      "Creating impact list\n",
      "tessim tstart=0 tstop=0.4 PixType='file:LPA2.5a_tessim.fits' PixImpList=piximpact_2keV.fits Streamfile=tessim_output_2keV.fits PixID=1 triggertype=\"diff:3:100:\" triggersize=9000\n",
      "Command '['tessim', 'tstart=0', 'tstop=0.4', 'PixType=file:LPA2.5a_tessim.fits', 'PixImpList=piximpact_2keV.fits', 'Streamfile=tessim_output_2keV.fits', 'PixID=1', 'triggertype=diff:3:100:', 'triggersize=9000']' died with <Signals.SIGABRT: 6>.\n"
     ]
    },
    {
     "ename": "CalledProcessError",
     "evalue": "Command '['tessim', 'tstart=0', 'tstop=0.4', 'PixType=file:LPA2.5a_tessim.fits', 'PixImpList=piximpact_2keV.fits', 'Streamfile=tessim_output_2keV.fits', 'PixID=1', 'triggertype=diff:3:100:', 'triggersize=9000']' died with <Signals.SIGABRT: 6>.",
     "output_type": "error",
     "traceback": [
      "\u001b[0;31m---------------------------------------------------------------------------\u001b[0m",
      "\u001b[0;31mCalledProcessError\u001b[0m                        Traceback (most recent call last)",
      "\u001b[0;32m<ipython-input-77-668e71549f5b>\u001b[0m in \u001b[0;36m<module>\u001b[0;34m\u001b[0m\n\u001b[1;32m      5\u001b[0m     \u001b[0;32mif\u001b[0m \u001b[0mos\u001b[0m\u001b[0;34m.\u001b[0m\u001b[0mpath\u001b[0m\u001b[0;34m.\u001b[0m\u001b[0mexists\u001b[0m\u001b[0;34m(\u001b[0m\u001b[0mStreamfile\u001b[0m\u001b[0;34m)\u001b[0m\u001b[0;34m:\u001b[0m\u001b[0;34m\u001b[0m\u001b[0;34m\u001b[0m\u001b[0m\n\u001b[1;32m      6\u001b[0m             \u001b[0mos\u001b[0m\u001b[0;34m.\u001b[0m\u001b[0mremove\u001b[0m\u001b[0;34m(\u001b[0m\u001b[0mStreamfile\u001b[0m\u001b[0;34m)\u001b[0m\u001b[0;34m\u001b[0m\u001b[0;34m\u001b[0m\u001b[0m\n\u001b[0;32m----> 7\u001b[0;31m     run_comm(\"tessim tstart=0 tstop=0.4 PixType='file:LPA2.5a_tessim.fits' PixImpList={} Streamfile={}\".format(PixImpList, Streamfile) +\n\u001b[0m\u001b[1;32m      8\u001b[0m              ' PixID=1 triggertype=\"diff:3:100:\" triggersize=9000', 'Creating impact list')    \n\u001b[1;32m      9\u001b[0m \u001b[0;32melse\u001b[0m\u001b[0;34m:\u001b[0m\u001b[0;34m\u001b[0m\u001b[0;34m\u001b[0m\u001b[0m\n",
      "\u001b[0;32m<ipython-input-42-86eeb97b4b7e>\u001b[0m in \u001b[0;36mrun_comm\u001b[0;34m(comm, msg)\u001b[0m\n\u001b[1;32m      4\u001b[0m     \u001b[0;32mtry\u001b[0m\u001b[0;34m:\u001b[0m\u001b[0;34m\u001b[0m\u001b[0;34m\u001b[0m\u001b[0m\n\u001b[1;32m      5\u001b[0m         \u001b[0margs\u001b[0m \u001b[0;34m=\u001b[0m \u001b[0mshlex\u001b[0m\u001b[0;34m.\u001b[0m\u001b[0msplit\u001b[0m\u001b[0;34m(\u001b[0m\u001b[0mcomm\u001b[0m\u001b[0;34m)\u001b[0m\u001b[0;34m\u001b[0m\u001b[0;34m\u001b[0m\u001b[0m\n\u001b[0;32m----> 6\u001b[0;31m         \u001b[0mcheck_call\u001b[0m\u001b[0;34m(\u001b[0m\u001b[0margs\u001b[0m\u001b[0;34m,\u001b[0m \u001b[0mstderr\u001b[0m\u001b[0;34m=\u001b[0m\u001b[0mSTDOUT\u001b[0m\u001b[0;34m)\u001b[0m\u001b[0;34m\u001b[0m\u001b[0;34m\u001b[0m\u001b[0m\n\u001b[0m\u001b[1;32m      7\u001b[0m     \u001b[0;32mexcept\u001b[0m \u001b[0mException\u001b[0m \u001b[0;32mas\u001b[0m \u001b[0mmess\u001b[0m\u001b[0;34m:\u001b[0m\u001b[0;34m\u001b[0m\u001b[0;34m\u001b[0m\u001b[0m\n\u001b[1;32m      8\u001b[0m         \u001b[0mprint\u001b[0m\u001b[0;34m(\u001b[0m\u001b[0mmess\u001b[0m\u001b[0;34m)\u001b[0m\u001b[0;34m\u001b[0m\u001b[0;34m\u001b[0m\u001b[0m\n",
      "\u001b[0;32m~/anaconda3/lib/python3.8/subprocess.py\u001b[0m in \u001b[0;36mcheck_call\u001b[0;34m(*popenargs, **kwargs)\u001b[0m\n\u001b[1;32m    362\u001b[0m         \u001b[0;32mif\u001b[0m \u001b[0mcmd\u001b[0m \u001b[0;32mis\u001b[0m \u001b[0;32mNone\u001b[0m\u001b[0;34m:\u001b[0m\u001b[0;34m\u001b[0m\u001b[0;34m\u001b[0m\u001b[0m\n\u001b[1;32m    363\u001b[0m             \u001b[0mcmd\u001b[0m \u001b[0;34m=\u001b[0m \u001b[0mpopenargs\u001b[0m\u001b[0;34m[\u001b[0m\u001b[0;36m0\u001b[0m\u001b[0;34m]\u001b[0m\u001b[0;34m\u001b[0m\u001b[0;34m\u001b[0m\u001b[0m\n\u001b[0;32m--> 364\u001b[0;31m         \u001b[0;32mraise\u001b[0m \u001b[0mCalledProcessError\u001b[0m\u001b[0;34m(\u001b[0m\u001b[0mretcode\u001b[0m\u001b[0;34m,\u001b[0m \u001b[0mcmd\u001b[0m\u001b[0;34m)\u001b[0m\u001b[0;34m\u001b[0m\u001b[0;34m\u001b[0m\u001b[0m\n\u001b[0m\u001b[1;32m    365\u001b[0m     \u001b[0;32mreturn\u001b[0m \u001b[0;36m0\u001b[0m\u001b[0;34m\u001b[0m\u001b[0;34m\u001b[0m\u001b[0m\n\u001b[1;32m    366\u001b[0m \u001b[0;34m\u001b[0m\u001b[0m\n",
      "\u001b[0;31mCalledProcessError\u001b[0m: Command '['tessim', 'tstart=0', 'tstop=0.4', 'PixType=file:LPA2.5a_tessim.fits', 'PixImpList=piximpact_2keV.fits', 'Streamfile=tessim_output_2keV.fits', 'PixID=1', 'triggertype=diff:3:100:', 'triggersize=9000']' died with <Signals.SIGABRT: 6>."
     ]
    }
   ],
   "source": [
    "Streamfile='tessim_output_2keV.fits'\n",
    "\n",
    "rewrite = True\n",
    "if rewrite:\n",
    "    if os.path.exists(Streamfile):\n",
    "            os.remove(Streamfile)\n",
    "    run_comm(\"tessim tstart=0 tstop=0.4 PixType='file:LPA2.5a_tessim.fits' PixImpList={} Streamfile={}\".format(PixImpList, Streamfile) +\n",
    "             ' PixID=1 triggertype=\"diff:3:100:\" triggersize=9000', 'Creating impact list')    \n",
    "else:\n",
    "    print(\"Event file ({}) already exists: it will not be overwritten\".format(Streamfile))\n"
   ]
  },
  {
   "cell_type": "code",
   "execution_count": null,
   "id": "507941fb-6f68-4496-878a-0a8944539642",
   "metadata": {},
   "outputs": [],
   "source": []
  },
  {
   "cell_type": "code",
   "execution_count": null,
   "id": "9132f921-3c24-47e1-a4a1-fb8e4066ac53",
   "metadata": {},
   "outputs": [],
   "source": []
  }
 ],
 "metadata": {
  "kernelspec": {
   "display_name": "Python 3",
   "language": "python",
   "name": "python3"
  },
  "language_info": {
   "codemirror_mode": {
    "name": "ipython",
    "version": 3
   },
   "file_extension": ".py",
   "mimetype": "text/x-python",
   "name": "python",
   "nbconvert_exporter": "python",
   "pygments_lexer": "ipython3",
   "version": "3.8.10"
  }
 },
 "nbformat": 4,
 "nbformat_minor": 5
}
